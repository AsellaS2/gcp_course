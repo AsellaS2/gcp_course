{
  "nbformat": 4,
  "nbformat_minor": 0,
  "metadata": {
    "colab": {
      "provenance": [],
      "include_colab_link": true
    },
    "kernelspec": {
      "display_name": "Python 3",
      "name": "python3"
    }
  },
  "cells": [
    {
      "cell_type": "markdown",
      "metadata": {
        "id": "view-in-github",
        "colab_type": "text"
      },
      "source": [
        "<a href=\"https://colab.research.google.com/github/AsellaS2/gcp_course/blob/main/1_python%EC%9D%98_%EC%9E%90%EB%A3%8C%ED%98%95(%EC%B5%9C%EC%A2%85).ipynb\" target=\"_parent\"><img src=\"https://colab.research.google.com/assets/colab-badge.svg\" alt=\"Open In Colab\"/></a>"
      ]
    },
    {
      "cell_type": "markdown",
      "metadata": {
        "id": "rbMcU8CvVxtm"
      },
      "source": [
        "파이썬에서 프로그래밍을 할때 가장 많이 사용하는 메소드중 하나가 print()일 것이다.<br> print를 다양하게 사용할 수 있지만, 앞으로 자주 사용하는 형태 몇가지를 살펴보자."
      ]
    },
    {
      "cell_type": "markdown",
      "source": [
        "# **colab은 클라우드 버전의 주피터노트북이다.**"
      ],
      "metadata": {
        "id": "tt8s13gkllQ3"
      }
    },
    {
      "cell_type": "markdown",
      "metadata": {
        "id": "MQPNVXk1GFug"
      },
      "source": [
        "## 1. 출력"
      ]
    },
    {
      "cell_type": "markdown",
      "metadata": {
        "id": "BAhtzLBFWdzf"
      },
      "source": [
        "Jupyter notebook환경에서는 셀의 마지막 줄에 변수명을 올려 놓으면, <br> 그 내용은 print()메소드를 사용하지 않아도 출력해준다."
      ]
    },
    {
      "cell_type": "code",
      "metadata": {
        "colab": {
          "base_uri": "https://localhost:8080/"
        },
        "id": "ZDP5YjMIWwQw",
        "outputId": "234e79fd-d5bd-4062-f4de-f32fe80775e4"
      },
      "source": [
        "a=10\n",
        "\n",
        "print(a)\n",
        "a"
      ],
      "execution_count": null,
      "outputs": [
        {
          "output_type": "stream",
          "name": "stdout",
          "text": [
            "10\n"
          ]
        },
        {
          "output_type": "execute_result",
          "data": {
            "text/plain": [
              "10"
            ]
          },
          "metadata": {},
          "execution_count": 8
        }
      ]
    },
    {
      "cell_type": "markdown",
      "metadata": {
        "id": "gdAhKvfMW20A"
      },
      "source": [
        "그러나 다음과 같이 하나의 셀에 여러 개를 출력할 경우에는 print()메소드를 이용하면 된다.\n",
        "\n",
        "```\n",
        "#문자열의 출력\n",
        "print('안녕하세요')\n",
        "print('Hello')\n",
        "```"
      ]
    },
    {
      "cell_type": "code",
      "metadata": {
        "colab": {
          "base_uri": "https://localhost:8080/"
        },
        "id": "AeoAHPcnGBxc",
        "outputId": "9e85ab0d-a08a-4842-a9e0-7ab9028eade4"
      },
      "source": [
        "#문자열의 출력\n",
        "print('안녕하세요')\n",
        "print(\"안녕하세요\")\n",
        "print('\"안녕하세요\"')\n",
        "print(\"'안녕하세요'\")\n",
        "print('Hello')"
      ],
      "execution_count": null,
      "outputs": [
        {
          "output_type": "stream",
          "name": "stdout",
          "text": [
            "안녕하세요\n",
            "안녕하세요\n",
            "\"안녕하세요\"\n",
            "'안녕하세요'\n",
            "Hello\n"
          ]
        }
      ]
    },
    {
      "cell_type": "code",
      "source": [
        "myString = \"This is\"\n",
        "\n",
        "print(myString)\n",
        "\n",
        "\n",
        "## 타입 확인\n",
        "print(type(myString))\n",
        "type(myString)"
      ],
      "metadata": {
        "colab": {
          "base_uri": "https://localhost:8080/"
        },
        "id": "D23C3oGzi9qv",
        "outputId": "256845d8-9910-4232-dab7-72f1b7578518"
      },
      "execution_count": null,
      "outputs": [
        {
          "output_type": "stream",
          "name": "stdout",
          "text": [
            "This is\n",
            "<class 'str'>\n"
          ]
        },
        {
          "output_type": "execute_result",
          "data": {
            "text/plain": [
              "str"
            ]
          },
          "metadata": {},
          "execution_count": 11
        }
      ]
    },
    {
      "cell_type": "code",
      "metadata": {
        "colab": {
          "base_uri": "https://localhost:8080/"
        },
        "id": "yk2TXq1XkKav",
        "outputId": "8ad2be7d-e01f-4615-fb7e-25715d01a524"
      },
      "source": [
        "#숫자의 출력\n",
        "print(12345678)"
      ],
      "execution_count": null,
      "outputs": [
        {
          "output_type": "stream",
          "text": [
            "12345678\n"
          ],
          "name": "stdout"
        }
      ]
    },
    {
      "cell_type": "code",
      "metadata": {
        "colab": {
          "base_uri": "https://localhost:8080/"
        },
        "id": "f4a54Aq8XN2S",
        "outputId": "f12e3972-9579-4c00-e79b-fff1f598527e"
      },
      "source": [
        "#문자열의 출력\n",
        "print(\"12345678\")"
      ],
      "execution_count": null,
      "outputs": [
        {
          "output_type": "stream",
          "text": [
            "12345678\n"
          ],
          "name": "stdout"
        }
      ]
    },
    {
      "cell_type": "markdown",
      "metadata": {
        "id": "DhRp7joQQWjC"
      },
      "source": [
        "## 2. 변수와 대입"
      ]
    },
    {
      "cell_type": "markdown",
      "metadata": {
        "id": "jYy2_H0LTTV1"
      },
      "source": [
        "변수는 **데이터를 담는 그릇**으로 이해하자.\n",
        "\n",
        "변수라는 그릇에 정수 또는 문장, file을 담을 수 있는데, <br>이들을 구별하기 위해 변수들에 이름을 부여해야한다.\n"
      ]
    },
    {
      "cell_type": "markdown",
      "metadata": {
        "id": "pXEzU0KYQlFq"
      },
      "source": [
        "### 2-1. 변수의 이름"
      ]
    },
    {
      "cell_type": "markdown",
      "metadata": {
        "id": "bOx6AZblQ7N5"
      },
      "source": [
        "case 1. 알파벳 대소문자와 한글도 가능하다.<br> (한글은 가능하지만 한영변환을 자주해야해서 불편하다.)\n"
      ]
    },
    {
      "cell_type": "code",
      "metadata": {
        "id": "TIK6Qp5RQ6-k"
      },
      "source": [
        "a = 1"
      ],
      "execution_count": null,
      "outputs": []
    },
    {
      "cell_type": "code",
      "metadata": {
        "id": "Wxpjs5SbSFdV"
      },
      "source": [
        "A = 1"
      ],
      "execution_count": null,
      "outputs": []
    },
    {
      "cell_type": "code",
      "metadata": {
        "id": "Pri05QNBSHD_"
      },
      "source": [
        "변수 = 1"
      ],
      "execution_count": null,
      "outputs": []
    },
    {
      "cell_type": "code",
      "metadata": {
        "colab": {
          "base_uri": "https://localhost:8080/"
        },
        "id": "FKfXqeQoSIXU",
        "outputId": "c436fff5-fe8a-41c1-bf8c-d49103e15be1"
      },
      "source": [
        "변수"
      ],
      "execution_count": null,
      "outputs": [
        {
          "output_type": "execute_result",
          "data": {
            "text/plain": [
              "1"
            ]
          },
          "metadata": {
            "tags": []
          },
          "execution_count": 8
        }
      ]
    },
    {
      "cell_type": "markdown",
      "metadata": {
        "id": "nEyz3D-8Quh5"
      },
      "source": [
        "case 2. 알파벳 + 숫자 (가능)"
      ]
    },
    {
      "cell_type": "code",
      "metadata": {
        "id": "XJZFGL3oQk87"
      },
      "source": [
        "a1 = 1"
      ],
      "execution_count": null,
      "outputs": []
    },
    {
      "cell_type": "markdown",
      "metadata": {
        "id": "DMODcJQnRJQU"
      },
      "source": [
        "case 3. 알파벳 + 언더바(_) (가능)"
      ]
    },
    {
      "cell_type": "code",
      "metadata": {
        "id": "iLZ6Bp8PRaay"
      },
      "source": [
        "a_ = 1"
      ],
      "execution_count": null,
      "outputs": []
    },
    {
      "cell_type": "markdown",
      "metadata": {
        "id": "yfz1ox-5Rb0I"
      },
      "source": [
        "case 4. 언더바(_) + 알파벳 (가능))"
      ]
    },
    {
      "cell_type": "code",
      "metadata": {
        "id": "gXKzcmybRizo"
      },
      "source": [
        "_a = 1"
      ],
      "execution_count": null,
      "outputs": []
    },
    {
      "cell_type": "markdown",
      "metadata": {
        "id": "OrfMZBODQkyU"
      },
      "source": [
        "case 5. 숫자 + 알파벳 (불가능)"
      ]
    },
    {
      "cell_type": "code",
      "metadata": {
        "colab": {
          "base_uri": "https://localhost:8080/",
          "height": 147
        },
        "id": "Po0D-oA_QWLq",
        "outputId": "07a7a048-abfe-48bc-af44-14a42eb2fbe8"
      },
      "source": [
        "1a = 1\n",
        "\n",
        "## 한칸 뒤를 가르키면서 에러를 가르킨다."
      ],
      "execution_count": null,
      "outputs": [
        {
          "output_type": "error",
          "ename": "SyntaxError",
          "evalue": "ignored",
          "traceback": [
            "\u001b[0;36m  File \u001b[0;32m\"<ipython-input-18-e5d360175092>\"\u001b[0;36m, line \u001b[0;32m1\u001b[0m\n\u001b[0;31m    1a = 1\u001b[0m\n\u001b[0m    ^\u001b[0m\n\u001b[0;31mSyntaxError\u001b[0m\u001b[0;31m:\u001b[0m invalid decimal literal\n"
          ]
        }
      ]
    },
    {
      "cell_type": "markdown",
      "metadata": {
        "id": "cVC_51UAQ4_E"
      },
      "source": [
        "case 6. 특수문자 (불가능)"
      ]
    },
    {
      "cell_type": "code",
      "metadata": {
        "colab": {
          "base_uri": "https://localhost:8080/",
          "height": 136
        },
        "id": "1R5QFrVcRsip",
        "outputId": "073ae279-b059-4e71-f018-d9a170fa15d0"
      },
      "source": [
        "* = 7"
      ],
      "execution_count": null,
      "outputs": [
        {
          "output_type": "error",
          "ename": "SyntaxError",
          "evalue": "ignored",
          "traceback": [
            "\u001b[0;36m  File \u001b[0;32m\"<ipython-input-11-e21efa324dba>\"\u001b[0;36m, line \u001b[0;32m1\u001b[0m\n\u001b[0;31m    * = 7\u001b[0m\n\u001b[0m      ^\u001b[0m\n\u001b[0;31mSyntaxError\u001b[0m\u001b[0;31m:\u001b[0m invalid syntax\n"
          ]
        }
      ]
    },
    {
      "cell_type": "markdown",
      "metadata": {
        "id": "DApK72LyRuWk"
      },
      "source": [
        "case 7. 언더바를 제외한 특수문자 (불가능)"
      ]
    },
    {
      "cell_type": "code",
      "metadata": {
        "colab": {
          "base_uri": "https://localhost:8080/",
          "height": 136
        },
        "id": "ib-k4vjZRuKR",
        "outputId": "0174cda1-6c88-444a-b2e9-e96d43ab885c"
      },
      "source": [
        "a$ = 6"
      ],
      "execution_count": null,
      "outputs": [
        {
          "output_type": "error",
          "ename": "SyntaxError",
          "evalue": "ignored",
          "traceback": [
            "\u001b[0;36m  File \u001b[0;32m\"<ipython-input-12-7b68e0211941>\"\u001b[0;36m, line \u001b[0;32m1\u001b[0m\n\u001b[0;31m    a$ = 6\u001b[0m\n\u001b[0m     ^\u001b[0m\n\u001b[0;31mSyntaxError\u001b[0m\u001b[0;31m:\u001b[0m invalid syntax\n"
          ]
        }
      ]
    },
    {
      "cell_type": "markdown",
      "metadata": {
        "id": "C4N7rPjenZfj"
      },
      "source": [
        "case 8. 변수의 이름 사이의 공백 (불가능)"
      ]
    },
    {
      "cell_type": "code",
      "metadata": {
        "colab": {
          "base_uri": "https://localhost:8080/",
          "height": 134
        },
        "id": "t0noa6EOngJc",
        "outputId": "e294ccd3-c6e2-4424-e0cd-88d9c1d6dd59"
      },
      "source": [
        "a b = 6"
      ],
      "execution_count": null,
      "outputs": [
        {
          "output_type": "error",
          "ename": "SyntaxError",
          "evalue": "ignored",
          "traceback": [
            "\u001b[0;36m  File \u001b[0;32m\"<ipython-input-20-38dc6d48d57b>\"\u001b[0;36m, line \u001b[0;32m1\u001b[0m\n\u001b[0;31m    a b = 6\u001b[0m\n\u001b[0m      ^\u001b[0m\n\u001b[0;31mSyntaxError\u001b[0m\u001b[0;31m:\u001b[0m invalid syntax\n"
          ]
        }
      ]
    },
    {
      "cell_type": "markdown",
      "metadata": {
        "id": "Zi16utkrSWUB"
      },
      "source": [
        "주로 변수는 **소문자 알파벳으로 생성**하고, 필요시 **언더바**나 **숫자를 붙히는 방식**이 일반적이다."
      ]
    },
    {
      "cell_type": "code",
      "metadata": {
        "id": "7um-fqf7R7gl"
      },
      "source": [
        "test = 10"
      ],
      "execution_count": null,
      "outputs": []
    },
    {
      "cell_type": "code",
      "metadata": {
        "id": "niBpyRtkSmIq"
      },
      "source": [
        "test01 = 20"
      ],
      "execution_count": null,
      "outputs": []
    },
    {
      "cell_type": "code",
      "metadata": {
        "id": "01krOD1tSprV"
      },
      "source": [
        "test_01 = 30"
      ],
      "execution_count": null,
      "outputs": []
    },
    {
      "cell_type": "markdown",
      "metadata": {
        "id": "7gz9oozUUVWr"
      },
      "source": [
        "**낙타등 표기법(CamelCase)**으로 변수명을 표현하는 것도 좋다\n",
        "\n",
        "변수명 표기법 참고 :\n",
        "https://blog.naver.com/nkind/222017581135"
      ]
    },
    {
      "cell_type": "code",
      "metadata": {
        "id": "OnCRkNP0Udlv"
      },
      "source": [
        "myData = 30"
      ],
      "execution_count": null,
      "outputs": []
    },
    {
      "cell_type": "markdown",
      "metadata": {
        "id": "duU9a-x5nl2k"
      },
      "source": [
        "### 2-2. 변수의 출력"
      ]
    },
    {
      "cell_type": "markdown",
      "metadata": {
        "id": "4vsJdyfOnq50"
      },
      "source": [
        "1. print() 구문 사이에 **값을 직접 집어 넣으면**, 바로 **값이 출력**된다.\n",
        "2. print() 구문 사이에 **변수 이름**을 집어 넣으면, 그 **값이 출력**이 됩니다."
      ]
    },
    {
      "cell_type": "code",
      "metadata": {
        "colab": {
          "base_uri": "https://localhost:8080/"
        },
        "id": "Nn1PnFk5nn3v",
        "outputId": "a584ecce-c0a2-4ff4-96c3-c4ca395482f6"
      },
      "source": [
        "# 값을 바로 집어 넣은 경우\n",
        "print('test')"
      ],
      "execution_count": null,
      "outputs": [
        {
          "output_type": "stream",
          "text": [
            "test\n"
          ],
          "name": "stdout"
        }
      ]
    },
    {
      "cell_type": "code",
      "metadata": {
        "id": "D9sHc-WRnqAm",
        "colab": {
          "base_uri": "https://localhost:8080/"
        },
        "outputId": "90550640-0df8-4118-cc5d-49ccfe257ca2"
      },
      "source": [
        "a = 123\n",
        "b = 4\n",
        "result = a+b\n",
        "\n",
        "\n",
        "print(result)\n",
        "result"
      ],
      "execution_count": null,
      "outputs": [
        {
          "output_type": "stream",
          "name": "stdout",
          "text": [
            "127\n"
          ]
        },
        {
          "output_type": "execute_result",
          "data": {
            "text/plain": [
              "127"
            ]
          },
          "metadata": {},
          "execution_count": 22
        }
      ]
    },
    {
      "cell_type": "code",
      "metadata": {
        "colab": {
          "base_uri": "https://localhost:8080/",
          "height": 34
        },
        "id": "9dtXPwFhoGn0",
        "outputId": "4996c196-feba-4592-af32-50200fdb4b8c"
      },
      "source": [
        "print(a)"
      ],
      "execution_count": null,
      "outputs": [
        {
          "output_type": "stream",
          "text": [
            "123\n"
          ],
          "name": "stdout"
        }
      ]
    },
    {
      "cell_type": "code",
      "metadata": {
        "id": "gqjwycpjoLFU"
      },
      "source": [
        "a = '안녕하세요, 반갑습니다'"
      ],
      "execution_count": null,
      "outputs": []
    },
    {
      "cell_type": "code",
      "metadata": {
        "colab": {
          "base_uri": "https://localhost:8080/",
          "height": 34
        },
        "id": "1Y6yv3IjoLN2",
        "outputId": "8c0ca3b7-6021-4be4-eab3-137456c1d0e3"
      },
      "source": [
        "print(a)"
      ],
      "execution_count": null,
      "outputs": [
        {
          "output_type": "stream",
          "text": [
            "안녕하세요, 반갑습니다\n"
          ],
          "name": "stdout"
        }
      ]
    },
    {
      "cell_type": "markdown",
      "metadata": {
        "id": "8pvdzLhaHrmk"
      },
      "source": [
        "# 파이썬의 자료형"
      ]
    },
    {
      "cell_type": "markdown",
      "metadata": {
        "id": "J-bCLRzqHywZ"
      },
      "source": [
        "파이썬은 자료형으로 숫자, 문자, 리스트, 튜플, 딕셔너리, 집합, 불(bool)의 형태를 가지고 있다."
      ]
    },
    {
      "cell_type": "markdown",
      "metadata": {
        "id": "qcwHqGFPHytw"
      },
      "source": [
        "이 파일에서는 아래의 순서로 진행한다.\n",
        "1. 숫자 (integer(int), float)<br>\n",
        "2. 문자 (String)<br>\n",
        "3. 리스트(List) <br>\n",
        "4. 튜플(Tuple) <br>\n",
        "5. 딕셔너리(Dictionary) <br>\n",
        "6. 집합(set) <br>\n",
        "7. 불(Bool) <br>"
      ]
    },
    {
      "cell_type": "markdown",
      "metadata": {
        "id": "e3jWuNkIFf52"
      },
      "source": [
        "## 3. 데이터 타입"
      ]
    },
    {
      "cell_type": "markdown",
      "metadata": {
        "id": "XG1zmhr-GLBP"
      },
      "source": [
        "**데이터 type**\n",
        "\n",
        "1. int(정수)\n",
        "2. float(실수)\n",
        "3. str(문자열)\n",
        "4. bool(참/거짓)"
      ]
    },
    {
      "cell_type": "markdown",
      "metadata": {
        "id": "QHYQ09XIGg1_"
      },
      "source": [
        "### 3-1. int(정수)"
      ]
    },
    {
      "cell_type": "code",
      "metadata": {
        "id": "y1cPV_XxFrkb"
      },
      "source": [
        "a = 1"
      ],
      "execution_count": null,
      "outputs": []
    },
    {
      "cell_type": "code",
      "metadata": {
        "colab": {
          "base_uri": "https://localhost:8080/",
          "height": 34
        },
        "id": "At5R-m--FuuR",
        "outputId": "8635b059-3cbc-4e9a-fed3-4bbd74746eee"
      },
      "source": [
        "type(a)"
      ],
      "execution_count": null,
      "outputs": [
        {
          "output_type": "execute_result",
          "data": {
            "text/plain": [
              "int"
            ]
          },
          "metadata": {
            "tags": []
          },
          "execution_count": 30
        }
      ]
    },
    {
      "cell_type": "code",
      "metadata": {
        "colab": {
          "base_uri": "https://localhost:8080/",
          "height": 34
        },
        "id": "LPjP8lXe29pY",
        "outputId": "9c551c4a-f3bd-4011-e7e4-ed4646b68a7e"
      },
      "source": [
        "if 1:\n",
        "    print('1은 참으로 취급')\n",
        "else:\n",
        "    print('1은 거짓부렁이')"
      ],
      "execution_count": null,
      "outputs": [
        {
          "output_type": "stream",
          "text": [
            "1은 참으로 취급\n"
          ],
          "name": "stdout"
        }
      ]
    },
    {
      "cell_type": "code",
      "metadata": {
        "colab": {
          "base_uri": "https://localhost:8080/",
          "height": 34
        },
        "id": "SzGkwbom3BrH",
        "outputId": "fd32b85c-bf8e-437d-ad37-3fc566b8879d"
      },
      "source": [
        "if 0:\n",
        "    print('0은 참으로 취급')\n",
        "else:\n",
        "    print('0은 거짓부렁이')"
      ],
      "execution_count": null,
      "outputs": [
        {
          "output_type": "stream",
          "text": [
            "0은 거짓부렁이\n"
          ],
          "name": "stdout"
        }
      ]
    },
    {
      "cell_type": "code",
      "metadata": {
        "colab": {
          "base_uri": "https://localhost:8080/",
          "height": 34
        },
        "id": "bKg4n9yz3DP6",
        "outputId": "ff735aaf-f651-4de6-c425-1a572fadae81"
      },
      "source": [
        "if 123:\n",
        "    print('123은 참으로 취급')\n",
        "else:\n",
        "    print('123은 거짓부렁이')"
      ],
      "execution_count": null,
      "outputs": [
        {
          "output_type": "stream",
          "text": [
            "123은 참으로 취급\n"
          ],
          "name": "stdout"
        }
      ]
    },
    {
      "cell_type": "markdown",
      "metadata": {
        "id": "qOJu5f5kGjpf"
      },
      "source": [
        "### 3-2. float(실수)"
      ]
    },
    {
      "cell_type": "code",
      "metadata": {
        "id": "4N-NaYDdGlTF"
      },
      "source": [
        "a = 3.14"
      ],
      "execution_count": null,
      "outputs": []
    },
    {
      "cell_type": "code",
      "metadata": {
        "colab": {
          "base_uri": "https://localhost:8080/",
          "height": 34
        },
        "id": "W-OYC_1zGneM",
        "outputId": "a775d287-c612-46ec-c324-c7576a7e3382"
      },
      "source": [
        "type(a)"
      ],
      "execution_count": null,
      "outputs": [
        {
          "output_type": "execute_result",
          "data": {
            "text/plain": [
              "float"
            ]
          },
          "metadata": {
            "tags": []
          },
          "execution_count": 35
        }
      ]
    },
    {
      "cell_type": "code",
      "metadata": {
        "colab": {
          "base_uri": "https://localhost:8080/",
          "height": 34
        },
        "id": "9wJn_P-roVh9",
        "outputId": "87e88913-9597-4e88-e2ee-4660c2b8df90"
      },
      "source": [
        "print(a)"
      ],
      "execution_count": null,
      "outputs": [
        {
          "output_type": "stream",
          "text": [
            "3.14\n"
          ],
          "name": "stdout"
        }
      ]
    },
    {
      "cell_type": "markdown",
      "metadata": {
        "id": "5sc68iMeGpJO"
      },
      "source": [
        "### 3-3. str 혹은 object (문자)"
      ]
    },
    {
      "cell_type": "code",
      "metadata": {
        "id": "cosCc_J0Fv8l"
      },
      "source": [
        "word = '안녕하세요'"
      ],
      "execution_count": null,
      "outputs": []
    },
    {
      "cell_type": "code",
      "metadata": {
        "id": "1S7b3MedofHY"
      },
      "source": [
        "word = \"안녕하세요\""
      ],
      "execution_count": null,
      "outputs": []
    },
    {
      "cell_type": "code",
      "metadata": {
        "colab": {
          "base_uri": "https://localhost:8080/",
          "height": 34
        },
        "id": "8h_mSzprGr0M",
        "outputId": "4d3d373f-0a2b-4894-cf93-e6f2e3897bd5"
      },
      "source": [
        "type(word)"
      ],
      "execution_count": null,
      "outputs": [
        {
          "output_type": "execute_result",
          "data": {
            "text/plain": [
              "str"
            ]
          },
          "metadata": {
            "tags": []
          },
          "execution_count": 40
        }
      ]
    },
    {
      "cell_type": "code",
      "metadata": {
        "id": "wkeYQZL3F5PS"
      },
      "source": [
        "word = \"안녕하세요\""
      ],
      "execution_count": null,
      "outputs": []
    },
    {
      "cell_type": "code",
      "metadata": {
        "colab": {
          "base_uri": "https://localhost:8080/",
          "height": 34
        },
        "id": "QAIcA-SXF7iw",
        "outputId": "560cbcd2-f9bc-40cc-d354-63cb19feb5af"
      },
      "source": [
        "type(word)"
      ],
      "execution_count": null,
      "outputs": [
        {
          "output_type": "execute_result",
          "data": {
            "text/plain": [
              "str"
            ]
          },
          "metadata": {
            "tags": []
          },
          "execution_count": 42
        }
      ]
    },
    {
      "cell_type": "markdown",
      "metadata": {
        "id": "v867uiHyF8nE"
      },
      "source": [
        "### 3-4. bool (참/거짓)"
      ]
    },
    {
      "cell_type": "code",
      "metadata": {
        "id": "cj28ZTzLQNrV"
      },
      "source": [
        "a = False"
      ],
      "execution_count": null,
      "outputs": []
    },
    {
      "cell_type": "code",
      "metadata": {
        "colab": {
          "base_uri": "https://localhost:8080/",
          "height": 34
        },
        "id": "nJayiV8HQP2S",
        "outputId": "79f2e861-c798-43bc-f9f6-4f0333603e0a"
      },
      "source": [
        "print(a)"
      ],
      "execution_count": null,
      "outputs": [
        {
          "output_type": "stream",
          "text": [
            "False\n"
          ],
          "name": "stdout"
        }
      ]
    },
    {
      "cell_type": "code",
      "metadata": {
        "colab": {
          "base_uri": "https://localhost:8080/",
          "height": 34
        },
        "id": "-liXhXbSQQUj",
        "outputId": "0e34fc5e-0b67-4f4f-a0ef-98040efbb868"
      },
      "source": [
        "0 == False"
      ],
      "execution_count": null,
      "outputs": [
        {
          "output_type": "execute_result",
          "data": {
            "text/plain": [
              "True"
            ]
          },
          "metadata": {
            "tags": []
          },
          "execution_count": 54
        }
      ]
    },
    {
      "cell_type": "markdown",
      "metadata": {
        "id": "oBWsyhdR2Mc5"
      },
      "source": [
        "### 3-5 아무것도 아닌 None 타입도 있습니다."
      ]
    },
    {
      "cell_type": "markdown",
      "metadata": {
        "id": "G0DtMj4R2Vte"
      },
      "source": [
        "말 그래도 아무 것도 아닌 흔히 Null 값을 넣는다고도 합니다.\n",
        "\n",
        "사전상 의미는<br>\n",
        "* **Null: Nullify (무효화하다)**\n",
        "라는 뜻을 가지고 있다네요~\n",
        "\n",
        "python에서는 **None** 입니다!"
      ]
    },
    {
      "cell_type": "code",
      "metadata": {
        "id": "rFrHjjC22MMA"
      },
      "source": [
        "a = None"
      ],
      "execution_count": null,
      "outputs": []
    },
    {
      "cell_type": "code",
      "metadata": {
        "colab": {
          "base_uri": "https://localhost:8080/",
          "height": 34
        },
        "id": "ABzXxy-EpVll",
        "outputId": "a27ed330-0d29-4430-98a2-4df5ab138090"
      },
      "source": [
        "type(a)"
      ],
      "execution_count": null,
      "outputs": [
        {
          "output_type": "execute_result",
          "data": {
            "text/plain": [
              "NoneType"
            ]
          },
          "metadata": {
            "tags": []
          },
          "execution_count": 57
        }
      ]
    },
    {
      "cell_type": "code",
      "metadata": {
        "colab": {
          "base_uri": "https://localhost:8080/",
          "height": 34
        },
        "id": "PpO_s24z2R5u",
        "outputId": "cbd5dff1-36b8-4285-95f9-f03e9f0c90db"
      },
      "source": [
        "print(a)"
      ],
      "execution_count": null,
      "outputs": [
        {
          "output_type": "stream",
          "text": [
            "None\n"
          ],
          "name": "stdout"
        }
      ]
    },
    {
      "cell_type": "markdown",
      "metadata": {
        "id": "KgAFjs7iUREl"
      },
      "source": [
        "## 4. 데이터 타입 (집합)"
      ]
    },
    {
      "cell_type": "markdown",
      "metadata": {
        "id": "Efu2Vqm7URLR"
      },
      "source": [
        "**집합 형태의 데이터 타입**\n",
        "\n",
        "1. list (순서 O, 집합)\n",
        "2. tuple (순서 O, 읽기 전용 집합)\n",
        "3. set (순서 X, 중복X 집합)\n",
        "4. dict (key, value로 이루어진 사전형 집합)"
      ]
    },
    {
      "cell_type": "markdown",
      "metadata": {
        "id": "d610lQinUwSN"
      },
      "source": [
        "### 4-1. list (순서가 있는 집합)"
      ]
    },
    {
      "cell_type": "markdown",
      "metadata": {
        "id": "g-HX7XnQU5zN"
      },
      "source": [
        "[] 형태로 표현합니다."
      ]
    },
    {
      "cell_type": "code",
      "metadata": {
        "id": "xSAez-0xU_sg"
      },
      "source": [
        "mylist = []"
      ],
      "execution_count": null,
      "outputs": []
    },
    {
      "cell_type": "code",
      "metadata": {
        "colab": {
          "base_uri": "https://localhost:8080/"
        },
        "id": "O17Nau-hVBW3",
        "outputId": "368d9138-816e-451a-9722-5badea2f5b23"
      },
      "source": [
        "mylist"
      ],
      "execution_count": null,
      "outputs": [
        {
          "output_type": "execute_result",
          "data": {
            "text/plain": [
              "[]"
            ]
          },
          "metadata": {},
          "execution_count": 9
        }
      ]
    },
    {
      "cell_type": "code",
      "metadata": {
        "colab": {
          "base_uri": "https://localhost:8080/"
        },
        "id": "G7Z_0FsuVDGT",
        "outputId": "d9215754-aaef-4fcb-ad22-1221645395b6"
      },
      "source": [
        "type(mylist)"
      ],
      "execution_count": null,
      "outputs": [
        {
          "output_type": "execute_result",
          "data": {
            "text/plain": [
              "list"
            ]
          },
          "metadata": {},
          "execution_count": 10
        }
      ]
    },
    {
      "cell_type": "code",
      "metadata": {
        "id": "IVS7djx4U0KS"
      },
      "source": [
        "mylist = [1, 3, 2, 4, 5]"
      ],
      "execution_count": null,
      "outputs": []
    },
    {
      "cell_type": "code",
      "metadata": {
        "colab": {
          "base_uri": "https://localhost:8080/"
        },
        "id": "SZlFHpFaU3sg",
        "outputId": "cca083f8-0d1b-4cc2-8353-7a88d4f0489a"
      },
      "source": [
        "mylist"
      ],
      "execution_count": null,
      "outputs": [
        {
          "output_type": "execute_result",
          "data": {
            "text/plain": [
              "[1, 3, 2, 4, 5]"
            ]
          },
          "metadata": {},
          "execution_count": 12
        }
      ]
    },
    {
      "cell_type": "markdown",
      "metadata": {
        "id": "JSh4BXzRWUY_"
      },
      "source": [
        "#### 리스트에 추가하기"
      ]
    },
    {
      "cell_type": "code",
      "metadata": {
        "id": "YeP2EYj8U4Ms",
        "colab": {
          "base_uri": "https://localhost:8080/"
        },
        "outputId": "0eff8f41-b842-44df-d1c2-d78e0d4fa864"
      },
      "source": [
        "mylist = []\n",
        "\n",
        "print(type(mylist))\n"
      ],
      "execution_count": 6,
      "outputs": [
        {
          "output_type": "stream",
          "name": "stdout",
          "text": [
            "<class 'list'>\n"
          ]
        }
      ]
    },
    {
      "cell_type": "code",
      "metadata": {
        "colab": {
          "base_uri": "https://localhost:8080/"
        },
        "id": "ilJWB7H8qjNa",
        "outputId": "f12b7d67-aee6-4eed-e5a0-6133dd2eb932"
      },
      "source": [
        "# 비어있는 리스트 확인\n",
        "print(mylist)"
      ],
      "execution_count": 5,
      "outputs": [
        {
          "output_type": "stream",
          "name": "stdout",
          "text": [
            "[]\n"
          ]
        }
      ]
    },
    {
      "cell_type": "code",
      "metadata": {
        "id": "AYHFOiG2VJEQ"
      },
      "source": [
        "# mylist를 append함수의 입력으로 받아 리스트에 1을 추가. append는 맨 뒤에 데이터를 추가한다.\n",
        "mylist.append(1)"
      ],
      "execution_count": 10,
      "outputs": []
    },
    {
      "cell_type": "code",
      "metadata": {
        "colab": {
          "base_uri": "https://localhost:8080/"
        },
        "id": "LBBwfWxRVK6E",
        "outputId": "b277d4b0-f7c8-415d-b548-9bd837c43123"
      },
      "source": [
        "mylist"
      ],
      "execution_count": 11,
      "outputs": [
        {
          "output_type": "execute_result",
          "data": {
            "text/plain": [
              "[1]"
            ]
          },
          "metadata": {},
          "execution_count": 11
        }
      ]
    },
    {
      "cell_type": "code",
      "metadata": {
        "id": "c1nS9xs8VLYo"
      },
      "source": [
        "mylist.append(2)\n",
        "mylist.append(3)"
      ],
      "execution_count": 12,
      "outputs": []
    },
    {
      "cell_type": "code",
      "metadata": {
        "colab": {
          "base_uri": "https://localhost:8080/"
        },
        "id": "OJG-lnc-VN_W",
        "outputId": "81711742-cd67-4fcd-dcfa-d6033e8c21f2"
      },
      "source": [
        "mylist\n",
        "print(mylist)\n",
        "mylist.reverse()\n",
        "\n",
        "mylist"
      ],
      "execution_count": 13,
      "outputs": [
        {
          "output_type": "stream",
          "name": "stdout",
          "text": [
            "[1, 2, 3]\n"
          ]
        },
        {
          "output_type": "execute_result",
          "data": {
            "text/plain": [
              "[3, 2, 1]"
            ]
          },
          "metadata": {},
          "execution_count": 13
        }
      ]
    },
    {
      "cell_type": "markdown",
      "source": [
        "### myList => \"어벤져스\", \"마이너리티 리포트\", \"배트맨\", \"슈퍼맨\""
      ],
      "metadata": {
        "id": "t3QlLapOuElS"
      }
    },
    {
      "cell_type": "code",
      "source": [
        "# 초기화시에 리스트에 입력\n",
        "myList = [\"어벤져스\", \"마이너리티 리포트\", \"배트맨\", \"슈퍼맨\"]\n",
        "myList"
      ],
      "metadata": {
        "colab": {
          "base_uri": "https://localhost:8080/"
        },
        "id": "mH8RbXPSuT_E",
        "outputId": "0f62c650-9efb-4d83-92b2-0958412cf9f3"
      },
      "execution_count": 14,
      "outputs": [
        {
          "output_type": "execute_result",
          "data": {
            "text/plain": [
              "['어벤져스', '마이너리티 리포트', '배트맨', '슈퍼맨']"
            ]
          },
          "metadata": {},
          "execution_count": 14
        }
      ]
    },
    {
      "cell_type": "code",
      "source": [
        "#사용자 및 키보드로부터 입력을 받아서 변수에 전달하는 함수\n",
        "a = input()"
      ],
      "metadata": {
        "colab": {
          "base_uri": "https://localhost:8080/"
        },
        "id": "sS2YiRYXQJZR",
        "outputId": "f360b4b7-18b9-4476-c2ed-5eeb7c7895d5"
      },
      "execution_count": 18,
      "outputs": [
        {
          "name": "stdout",
          "output_type": "stream",
          "text": [
            "life is short\n"
          ]
        }
      ]
    },
    {
      "cell_type": "code",
      "source": [
        "a"
      ],
      "metadata": {
        "colab": {
          "base_uri": "https://localhost:8080/",
          "height": 35
        },
        "id": "d5ePj8cvQhZu",
        "outputId": "4a2838b4-cd8f-481e-f74d-4032439a0750"
      },
      "execution_count": 19,
      "outputs": [
        {
          "output_type": "execute_result",
          "data": {
            "text/plain": [
              "'life is short'"
            ],
            "application/vnd.google.colaboratory.intrinsic+json": {
              "type": "string"
            }
          },
          "metadata": {},
          "execution_count": 19
        }
      ]
    },
    {
      "cell_type": "code",
      "source": [
        "# input()함수는 키보드로 부터 입력\n",
        "data = input()\n",
        "print('영화제목 : ' + data)"
      ],
      "metadata": {
        "colab": {
          "base_uri": "https://localhost:8080/"
        },
        "id": "pj1rAvScu2Ap",
        "outputId": "397d8467-063e-4869-a3c0-0633c2c8709c"
      },
      "execution_count": 22,
      "outputs": [
        {
          "output_type": "stream",
          "name": "stdout",
          "text": [
            "12345\n",
            "영화제목 : 12345\n"
          ]
        }
      ]
    },
    {
      "cell_type": "code",
      "source": [
        "type(data)"
      ],
      "metadata": {
        "colab": {
          "base_uri": "https://localhost:8080/"
        },
        "id": "WJsSSOOIvFI3",
        "outputId": "df1ec992-afbe-46d3-f816-e99bcb4b6b69"
      },
      "execution_count": 24,
      "outputs": [
        {
          "output_type": "execute_result",
          "data": {
            "text/plain": [
              "str"
            ]
          },
          "metadata": {},
          "execution_count": 24
        }
      ]
    },
    {
      "cell_type": "code",
      "source": [
        "myList =[]\n",
        "data = input()\n",
        "myList.append(data)\n",
        "data = input()\n",
        "myList.append(data)\n",
        "myList"
      ],
      "metadata": {
        "colab": {
          "base_uri": "https://localhost:8080/"
        },
        "id": "lCKgyRiPvPbY",
        "outputId": "0eae8a2d-2dd9-4d42-ca2c-28b982348756"
      },
      "execution_count": 25,
      "outputs": [
        {
          "name": "stdout",
          "output_type": "stream",
          "text": [
            "다크나이트\n",
            "포레스트 검프\n"
          ]
        },
        {
          "output_type": "execute_result",
          "data": {
            "text/plain": [
              "['다크나이트', '포레스트 검프']"
            ]
          },
          "metadata": {},
          "execution_count": 25
        }
      ]
    },
    {
      "cell_type": "code",
      "source": [
        "# insert함수는 내가 위치를 지정할때 사용하는 함수\n",
        "myList = [1,3,4]\n",
        "myList.insert(1,2)\n",
        "myList"
      ],
      "metadata": {
        "colab": {
          "base_uri": "https://localhost:8080/"
        },
        "id": "02GjMm3Gv3nF",
        "outputId": "f5ac350c-69df-4743-d6e9-d032e937c1bd"
      },
      "execution_count": 29,
      "outputs": [
        {
          "output_type": "execute_result",
          "data": {
            "text/plain": [
              "[1, 2, 3, 4]"
            ]
          },
          "metadata": {},
          "execution_count": 29
        }
      ]
    },
    {
      "cell_type": "markdown",
      "metadata": {
        "id": "mwaKcYsRWatD"
      },
      "source": [
        "#### 리스트에서 제거하기"
      ]
    },
    {
      "cell_type": "code",
      "metadata": {
        "colab": {
          "base_uri": "https://localhost:8080/"
        },
        "id": "ZjRQXZAHWccX",
        "outputId": "f6908ef7-859d-40bd-f329-f54553ac9f53"
      },
      "source": [
        "mylist.append(2)\n",
        "mylist"
      ],
      "execution_count": 39,
      "outputs": [
        {
          "output_type": "execute_result",
          "data": {
            "text/plain": [
              "[3, 2, 1, 1, 2]"
            ]
          },
          "metadata": {},
          "execution_count": 39
        }
      ]
    },
    {
      "cell_type": "code",
      "metadata": {
        "id": "ftFR8PsbVOx0"
      },
      "source": [
        "mylist.remove(2)\n",
        "#같은 값이 있다면 앞에 값부터 지워진다."
      ],
      "execution_count": 42,
      "outputs": []
    },
    {
      "cell_type": "code",
      "metadata": {
        "colab": {
          "base_uri": "https://localhost:8080/"
        },
        "id": "ezdTLXnmVQ-E",
        "outputId": "e67a2ec6-ad82-4562-d12d-5ae252f04f2e"
      },
      "source": [
        "mylist"
      ],
      "execution_count": 41,
      "outputs": [
        {
          "output_type": "execute_result",
          "data": {
            "text/plain": [
              "[3, 1, 1, 2]"
            ]
          },
          "metadata": {},
          "execution_count": 41
        }
      ]
    },
    {
      "cell_type": "code",
      "metadata": {
        "colab": {
          "base_uri": "https://localhost:8080/",
          "height": 169
        },
        "id": "TsBOX9IHVRgU",
        "outputId": "0d01dcf0-395b-4d56-ffa8-8b26365bc859"
      },
      "source": [
        "mylist.remove(1)"
      ],
      "execution_count": null,
      "outputs": [
        {
          "output_type": "error",
          "ename": "ValueError",
          "evalue": "ignored",
          "traceback": [
            "\u001b[0;31m---------------------------------------------------------------------------\u001b[0m",
            "\u001b[0;31mValueError\u001b[0m                                Traceback (most recent call last)",
            "\u001b[0;32m<ipython-input-76-c90a6cab05e0>\u001b[0m in \u001b[0;36m<module>\u001b[0;34m()\u001b[0m\n\u001b[0;32m----> 1\u001b[0;31m \u001b[0mmylist\u001b[0m\u001b[0;34m.\u001b[0m\u001b[0mremove\u001b[0m\u001b[0;34m(\u001b[0m\u001b[0;36m1\u001b[0m\u001b[0;34m)\u001b[0m\u001b[0;34m\u001b[0m\u001b[0;34m\u001b[0m\u001b[0m\n\u001b[0m",
            "\u001b[0;31mValueError\u001b[0m: list.remove(x): x not in list"
          ]
        }
      ]
    },
    {
      "cell_type": "markdown",
      "source": [
        "### pop()은 리스트의 맨 마지막 요소를 리턴하고 그 요소는 삭제한다."
      ],
      "metadata": {
        "id": "6vIp4KicCJ0o"
      }
    },
    {
      "cell_type": "code",
      "source": [
        "myList = [1,2,3,4,5]\n",
        "returnValue1 = myList.pop()\n",
        "print(returnValue1)\n",
        "print(myList)\n",
        "returnValue2 = myList.pop()\n",
        "print(returnValue2)\n",
        "print(myList)"
      ],
      "metadata": {
        "colab": {
          "base_uri": "https://localhost:8080/"
        },
        "id": "oAb1O_5GByfC",
        "outputId": "2777e62d-6727-4b42-e81f-58f15e333100"
      },
      "execution_count": 48,
      "outputs": [
        {
          "output_type": "stream",
          "name": "stdout",
          "text": [
            "5\n",
            "[1, 2, 3, 4]\n",
            "4\n",
            "[1, 2, 3]\n"
          ]
        }
      ]
    },
    {
      "cell_type": "code",
      "source": [
        "#리스트에서 마지막 요소를 가져와서 버린다.\n",
        "myList.pop()\n",
        "myList"
      ],
      "metadata": {
        "colab": {
          "base_uri": "https://localhost:8080/"
        },
        "id": "FMEOFmhLSva4",
        "outputId": "28fea9e6-df83-42bf-9ccc-45e6bdc0ce29"
      },
      "execution_count": 49,
      "outputs": [
        {
          "output_type": "execute_result",
          "data": {
            "text/plain": [
              "[1, 2]"
            ]
          },
          "metadata": {},
          "execution_count": 49
        }
      ]
    },
    {
      "cell_type": "markdown",
      "metadata": {
        "id": "Qn2cU-K6WhZ4"
      },
      "source": [
        "#### 여러 값들이 포함되어 있을 때 제거 순서"
      ]
    },
    {
      "cell_type": "code",
      "metadata": {
        "id": "KDPL_b6UVnoE"
      },
      "source": [
        "mylist = []\n",
        "mylist.append(1)\n",
        "mylist.append(2)\n",
        "mylist.append(3)\n",
        "mylist.append(1)\n",
        "mylist.append(2)\n",
        "mylist.append(3)"
      ],
      "execution_count": null,
      "outputs": []
    },
    {
      "cell_type": "code",
      "metadata": {
        "colab": {
          "base_uri": "https://localhost:8080/",
          "height": 34
        },
        "id": "wHhj44g2V0oq",
        "outputId": "b6571ad5-9217-4320-b384-44a6522ca5a5"
      },
      "source": [
        "mylist"
      ],
      "execution_count": null,
      "outputs": [
        {
          "output_type": "execute_result",
          "data": {
            "text/plain": [
              "[1, 2, 3, 1, 2, 3]"
            ]
          },
          "metadata": {
            "tags": []
          },
          "execution_count": 78
        }
      ]
    },
    {
      "cell_type": "code",
      "metadata": {
        "id": "dCXy8fecV1Ki"
      },
      "source": [
        "mylist.remove(1)"
      ],
      "execution_count": null,
      "outputs": []
    },
    {
      "cell_type": "code",
      "metadata": {
        "colab": {
          "base_uri": "https://localhost:8080/",
          "height": 34
        },
        "id": "sY20CamuV3bp",
        "outputId": "36a0b25d-6693-45d2-ec24-5edd52dfc0ef"
      },
      "source": [
        "mylist"
      ],
      "execution_count": null,
      "outputs": [
        {
          "output_type": "execute_result",
          "data": {
            "text/plain": [
              "[2, 3, 1, 2, 3]"
            ]
          },
          "metadata": {
            "tags": []
          },
          "execution_count": 81
        }
      ]
    },
    {
      "cell_type": "code",
      "metadata": {
        "id": "6RDuQGxuV4Bk"
      },
      "source": [
        "mylist.remove(1)"
      ],
      "execution_count": null,
      "outputs": []
    },
    {
      "cell_type": "code",
      "metadata": {
        "colab": {
          "base_uri": "https://localhost:8080/",
          "height": 34
        },
        "id": "04xYdv_dV6M_",
        "outputId": "842c00d3-b22f-4c5a-83ea-07ce4a3ccaf5"
      },
      "source": [
        "mylist"
      ],
      "execution_count": null,
      "outputs": [
        {
          "output_type": "execute_result",
          "data": {
            "text/plain": [
              "[2, 3, 2, 3]"
            ]
          },
          "metadata": {
            "tags": []
          },
          "execution_count": 83
        }
      ]
    },
    {
      "cell_type": "code",
      "metadata": {
        "colab": {
          "base_uri": "https://localhost:8080/",
          "height": 169
        },
        "id": "UYSzqKbSV_PT",
        "outputId": "fb722ba8-0a9f-4c2f-91f0-b37ffcf54e87"
      },
      "source": [
        "mylist.remove(1)"
      ],
      "execution_count": null,
      "outputs": [
        {
          "output_type": "error",
          "ename": "ValueError",
          "evalue": "ignored",
          "traceback": [
            "\u001b[0;31m---------------------------------------------------------------------------\u001b[0m",
            "\u001b[0;31mValueError\u001b[0m                                Traceback (most recent call last)",
            "\u001b[0;32m<ipython-input-84-c90a6cab05e0>\u001b[0m in \u001b[0;36m<module>\u001b[0;34m()\u001b[0m\n\u001b[0;32m----> 1\u001b[0;31m \u001b[0mmylist\u001b[0m\u001b[0;34m.\u001b[0m\u001b[0mremove\u001b[0m\u001b[0;34m(\u001b[0m\u001b[0;36m1\u001b[0m\u001b[0;34m)\u001b[0m\u001b[0;34m\u001b[0m\u001b[0;34m\u001b[0m\u001b[0m\n\u001b[0m",
            "\u001b[0;31mValueError\u001b[0m: list.remove(x): x not in list"
          ]
        }
      ]
    },
    {
      "cell_type": "markdown",
      "metadata": {
        "id": "k0w9nYxPWSNO"
      },
      "source": [
        "#### 인덱싱(indexing) -> 색인"
      ]
    },
    {
      "cell_type": "code",
      "metadata": {
        "id": "qY6rAQpWW5Pr"
      },
      "source": [
        "mylist = [1, 2, 3, 4]"
      ],
      "execution_count": null,
      "outputs": []
    },
    {
      "cell_type": "markdown",
      "metadata": {
        "id": "l9ad4C1XW9KE"
      },
      "source": [
        "인덱스는 **0번 부터 시작** 합니다."
      ]
    },
    {
      "cell_type": "code",
      "metadata": {
        "colab": {
          "base_uri": "https://localhost:8080/",
          "height": 34
        },
        "id": "nxGtMBuUWSXd",
        "outputId": "d321e71e-1968-430e-f90e-304b01368e52"
      },
      "source": [
        "mylist[0]"
      ],
      "execution_count": null,
      "outputs": [
        {
          "output_type": "execute_result",
          "data": {
            "text/plain": [
              "1"
            ]
          },
          "metadata": {
            "tags": []
          },
          "execution_count": 88
        }
      ]
    },
    {
      "cell_type": "code",
      "metadata": {
        "colab": {
          "base_uri": "https://localhost:8080/",
          "height": 34
        },
        "id": "bQQaTXemXDk-",
        "outputId": "1ebe5cf5-558c-4085-d963-aa62964fdfd1"
      },
      "source": [
        "mylist[3]"
      ],
      "execution_count": null,
      "outputs": [
        {
          "output_type": "execute_result",
          "data": {
            "text/plain": [
              "4"
            ]
          },
          "metadata": {
            "tags": []
          },
          "execution_count": 89
        }
      ]
    },
    {
      "cell_type": "code",
      "metadata": {
        "colab": {
          "base_uri": "https://localhost:8080/",
          "height": 169
        },
        "id": "GtO0YS9HXDe7",
        "outputId": "57075983-eb28-4ed0-a87c-2c9fcaddaa87"
      },
      "source": [
        "mylist[4]"
      ],
      "execution_count": null,
      "outputs": [
        {
          "output_type": "error",
          "ename": "IndexError",
          "evalue": "ignored",
          "traceback": [
            "\u001b[0;31m---------------------------------------------------------------------------\u001b[0m",
            "\u001b[0;31mIndexError\u001b[0m                                Traceback (most recent call last)",
            "\u001b[0;32m<ipython-input-90-88b11041aa4f>\u001b[0m in \u001b[0;36m<module>\u001b[0;34m()\u001b[0m\n\u001b[0;32m----> 1\u001b[0;31m \u001b[0mmylist\u001b[0m\u001b[0;34m[\u001b[0m\u001b[0;36m4\u001b[0m\u001b[0;34m]\u001b[0m\u001b[0;34m\u001b[0m\u001b[0;34m\u001b[0m\u001b[0m\n\u001b[0m",
            "\u001b[0;31mIndexError\u001b[0m: list index out of range"
          ]
        }
      ]
    },
    {
      "cell_type": "code",
      "source": [
        "mylist = [1, 2, 3, 4]"
      ],
      "metadata": {
        "id": "JYtXvDqFDH81"
      },
      "execution_count": null,
      "outputs": []
    },
    {
      "cell_type": "code",
      "source": [
        "mylist[-2]"
      ],
      "metadata": {
        "colab": {
          "base_uri": "https://localhost:8080/"
        },
        "id": "AfRfmLukDKI7",
        "outputId": "6adceb47-9e01-4127-deba-64635fb9550f"
      },
      "execution_count": null,
      "outputs": [
        {
          "output_type": "execute_result",
          "data": {
            "text/plain": [
              "3"
            ]
          },
          "metadata": {},
          "execution_count": 31
        }
      ]
    },
    {
      "cell_type": "code",
      "metadata": {
        "colab": {
          "base_uri": "https://localhost:8080/",
          "height": 169
        },
        "id": "dvsC2y9hXDYq",
        "outputId": "b7de9527-fee5-4f5b-dacf-e4d8cbf3f6b7"
      },
      "source": [
        "# -는 뒤에서\n",
        "mylist[-5]"
      ],
      "execution_count": null,
      "outputs": [
        {
          "output_type": "error",
          "ename": "IndexError",
          "evalue": "ignored",
          "traceback": [
            "\u001b[0;31m---------------------------------------------------------------------------\u001b[0m",
            "\u001b[0;31mIndexError\u001b[0m                                Traceback (most recent call last)",
            "\u001b[0;32m<ipython-input-93-7f152f66d2d3>\u001b[0m in \u001b[0;36m<module>\u001b[0;34m()\u001b[0m\n\u001b[0;32m----> 1\u001b[0;31m \u001b[0mmylist\u001b[0m\u001b[0;34m[\u001b[0m\u001b[0;34m-\u001b[0m\u001b[0;36m5\u001b[0m\u001b[0;34m]\u001b[0m\u001b[0;34m\u001b[0m\u001b[0;34m\u001b[0m\u001b[0m\n\u001b[0m",
            "\u001b[0;31mIndexError\u001b[0m: list index out of range"
          ]
        }
      ]
    },
    {
      "cell_type": "markdown",
      "metadata": {
        "id": "TZEqteGEXtJZ"
      },
      "source": [
        "#### 인덱스로 접근하여 값 바꾸기"
      ]
    },
    {
      "cell_type": "code",
      "metadata": {
        "colab": {
          "base_uri": "https://localhost:8080/"
        },
        "id": "WndBOK7DXwqk",
        "outputId": "b0a0d3ec-7585-4263-9be1-99c958671f09"
      },
      "source": [
        "mylist"
      ],
      "execution_count": 51,
      "outputs": [
        {
          "output_type": "execute_result",
          "data": {
            "text/plain": [
              "[3, 1, 1]"
            ]
          },
          "metadata": {},
          "execution_count": 51
        }
      ]
    },
    {
      "cell_type": "code",
      "metadata": {
        "colab": {
          "base_uri": "https://localhost:8080/"
        },
        "id": "qVZF6qydXyQa",
        "outputId": "1e7c201d-094f-4071-935b-b9e57b974dec"
      },
      "source": [
        "mylist[0]"
      ],
      "execution_count": 52,
      "outputs": [
        {
          "output_type": "execute_result",
          "data": {
            "text/plain": [
              "3"
            ]
          },
          "metadata": {},
          "execution_count": 52
        }
      ]
    },
    {
      "cell_type": "code",
      "metadata": {
        "id": "0CUByTZgX1yF"
      },
      "source": [
        "# 0번 인덱스의 데이터를 100으로 덮어쓰기\n",
        "mylist[0] = 100"
      ],
      "execution_count": 53,
      "outputs": []
    },
    {
      "cell_type": "code",
      "metadata": {
        "colab": {
          "base_uri": "https://localhost:8080/"
        },
        "id": "p841RzROX4C4",
        "outputId": "482c2f76-5f5c-4252-a24a-c2261cf140c7"
      },
      "source": [
        "mylist"
      ],
      "execution_count": 54,
      "outputs": [
        {
          "output_type": "execute_result",
          "data": {
            "text/plain": [
              "[100, 1, 1]"
            ]
          },
          "metadata": {},
          "execution_count": 54
        }
      ]
    },
    {
      "cell_type": "markdown",
      "metadata": {
        "id": "Fi8gFt_qXY5-"
      },
      "source": [
        "#### 전체 길이 (사이즈) 알아내기"
      ]
    },
    {
      "cell_type": "code",
      "metadata": {
        "colab": {
          "base_uri": "https://localhost:8080/"
        },
        "id": "-qvBVgmHXeea",
        "outputId": "03712eef-ee93-4dbc-8d75-7bfb1134da62"
      },
      "source": [
        "len(mylist)"
      ],
      "execution_count": 59,
      "outputs": [
        {
          "output_type": "execute_result",
          "data": {
            "text/plain": [
              "3"
            ]
          },
          "metadata": {},
          "execution_count": 59
        }
      ]
    },
    {
      "cell_type": "code",
      "source": [
        "a = [1,2,3]\n",
        "\n",
        "#리스트에서 하나씩 꺼내서 i변수에 전달하고, 하나씩 출력한다.\n",
        "for i in a :\n",
        "  print(\"제 순서는 : \",i)\n",
        "  print(\"저보다 더 큰 수는 : \", i + 1)"
      ],
      "metadata": {
        "colab": {
          "base_uri": "https://localhost:8080/"
        },
        "id": "vwtWsvkXUhZ0",
        "outputId": "bd0d4bfd-20d5-427e-a87e-25b96d6206bd"
      },
      "execution_count": 64,
      "outputs": [
        {
          "output_type": "stream",
          "name": "stdout",
          "text": [
            "제 순서는 :  1\n",
            "저보다 더 큰 수는 :  2\n",
            "제 순서는 :  2\n",
            "저보다 더 큰 수는 :  3\n",
            "제 순서는 :  3\n",
            "저보다 더 큰 수는 :  4\n"
          ]
        }
      ]
    },
    {
      "cell_type": "code",
      "source": [
        "#1~10까지 값을 넣어주고.그 값을 for 문으로 출력\n",
        "\n",
        "result = []\n",
        "\n",
        "startValue = 0\n",
        "stopValue = 10\n",
        "\n",
        "for i in range(startValue,stopValue):\n",
        " result.append(1+i)\n",
        " print(result[i])\n",
        "\n",
        "#리스트 컴프리핸션으로 작성\n",
        "[i+1 for i in range(10)]\n",
        "\n"
      ],
      "metadata": {
        "colab": {
          "base_uri": "https://localhost:8080/"
        },
        "id": "ahrDeUh8VCqz",
        "outputId": "257693e4-a42b-41bf-bb02-5bada53132f0"
      },
      "execution_count": 76,
      "outputs": [
        {
          "output_type": "stream",
          "name": "stdout",
          "text": [
            "1\n",
            "2\n",
            "3\n",
            "4\n",
            "5\n",
            "6\n",
            "7\n",
            "8\n",
            "9\n",
            "10\n"
          ]
        },
        {
          "output_type": "execute_result",
          "data": {
            "text/plain": [
              "[1, 2, 3, 4, 5, 6, 7, 8, 9, 10]"
            ]
          },
          "metadata": {},
          "execution_count": 76
        }
      ]
    },
    {
      "cell_type": "code",
      "source": [
        "# 잠깐 for문 미리 활용해서 코딩\n",
        "# 시작값이 1이고, 종료조건이 10미만이고, 증가분이 1씩 증가\n",
        "myList = []\n",
        "\n",
        "for i in range(1,100):\n",
        "    myList.append(i)\n",
        "\n",
        "print(myList)\n",
        "len(myList)\n"
      ],
      "metadata": {
        "colab": {
          "base_uri": "https://localhost:8080/"
        },
        "id": "z2hK7YpiEZiw",
        "outputId": "9fbecdbc-126d-4e61-cae7-081826af37bf"
      },
      "execution_count": 58,
      "outputs": [
        {
          "output_type": "stream",
          "name": "stdout",
          "text": [
            "[1, 2, 3, 4, 5, 6, 7, 8, 9, 10, 11, 12, 13, 14, 15, 16, 17, 18, 19, 20, 21, 22, 23, 24, 25, 26, 27, 28, 29, 30, 31, 32, 33, 34, 35, 36, 37, 38, 39, 40, 41, 42, 43, 44, 45, 46, 47, 48, 49, 50, 51, 52, 53, 54, 55, 56, 57, 58, 59, 60, 61, 62, 63, 64, 65, 66, 67, 68, 69, 70, 71, 72, 73, 74, 75, 76, 77, 78, 79, 80, 81, 82, 83, 84, 85, 86, 87, 88, 89, 90, 91, 92, 93, 94, 95, 96, 97, 98, 99]\n"
          ]
        },
        {
          "output_type": "execute_result",
          "data": {
            "text/plain": [
              "99"
            ]
          },
          "metadata": {},
          "execution_count": 58
        }
      ]
    },
    {
      "cell_type": "markdown",
      "source": [
        "##파일 4개 생성, 파일의 목록을 리스트에 받아옴"
      ],
      "metadata": {
        "id": "K1LUgn_WbqHJ"
      }
    },
    {
      "cell_type": "code",
      "source": [
        "#ls 명령은 리눅스 명령어, ls(list)\n",
        "!ls\n",
        "!pwd"
      ],
      "metadata": {
        "colab": {
          "base_uri": "https://localhost:8080/"
        },
        "id": "uDBhQ82ob4tJ",
        "outputId": "fb722811-dc4f-426b-f4af-a91e1dc1bc64"
      },
      "execution_count": 79,
      "outputs": [
        {
          "output_type": "stream",
          "name": "stdout",
          "text": [
            "sample_data\n",
            "/content\n"
          ]
        }
      ]
    },
    {
      "cell_type": "code",
      "source": [
        "# 리눅스 명령어인 touch를 이용해서 내용이 아무것도 없는 a.txt파일을 만듭니다.\n",
        "!touch a.txt b.txt c.txt d.txt"
      ],
      "metadata": {
        "id": "Cmauge3UGha0"
      },
      "execution_count": 81,
      "outputs": []
    },
    {
      "cell_type": "code",
      "source": [
        "# 현재 폴더에 빈파일들을 4개 만들기\n",
        "\n",
        "# colab이 실행되는 서버의 os가 linux\n",
        "# '!'는 터미널 명령 ls(list)\n",
        "!ls"
      ],
      "metadata": {
        "colab": {
          "base_uri": "https://localhost:8080/"
        },
        "id": "zZE1OPaQFfJS",
        "outputId": "ce1bbe74-af17-43d2-dee7-a9b419d66480"
      },
      "execution_count": 91,
      "outputs": [
        {
          "output_type": "stream",
          "name": "stdout",
          "text": [
            "a.txt  b.txt  c.txt  d.txt  sample_data\n"
          ]
        }
      ]
    },
    {
      "cell_type": "code",
      "source": [
        "import os\n",
        "# 현재 작업 디렉토리의 파일 목록들을 가져옴\n",
        "print(os.getcwd()) #현재 경로알려줘\n",
        "filenames = os.listdir()\n",
        "filenames"
      ],
      "metadata": {
        "colab": {
          "base_uri": "https://localhost:8080/"
        },
        "id": "25puSxZAHVF1",
        "outputId": "f25ebd6f-a39c-47df-8a8b-636c73de7853"
      },
      "execution_count": 92,
      "outputs": [
        {
          "output_type": "stream",
          "name": "stdout",
          "text": [
            "/content\n"
          ]
        },
        {
          "output_type": "execute_result",
          "data": {
            "text/plain": [
              "['.config', 'b.txt', 'c.txt', 'd.txt', 'a.txt', 'sample_data']"
            ]
          },
          "metadata": {},
          "execution_count": 92
        }
      ]
    },
    {
      "cell_type": "code",
      "source": [
        "removeList1 = filenames[0]\n",
        "removeList2 = filenames[5]"
      ],
      "metadata": {
        "id": "3yIQYyE8JLai"
      },
      "execution_count": 93,
      "outputs": []
    },
    {
      "cell_type": "code",
      "source": [
        "# filenames라는 리스트에서 '.config'와 'sample_data'를 삭제하고 txt파일만 남길때\n",
        "filenames.remove(removeList1)\n",
        "filenames.remove(removeList2)\n",
        "filenames"
      ],
      "metadata": {
        "colab": {
          "base_uri": "https://localhost:8080/"
        },
        "id": "M3uV-qhQIcwF",
        "outputId": "30a6bdb3-bc92-4fd2-da33-c0482239ee7a"
      },
      "execution_count": 94,
      "outputs": [
        {
          "output_type": "execute_result",
          "data": {
            "text/plain": [
              "['b.txt', 'c.txt', 'd.txt', 'a.txt']"
            ]
          },
          "metadata": {},
          "execution_count": 94
        }
      ]
    },
    {
      "cell_type": "code",
      "source": [
        "#내가 찾고자하는 파일을 골라서 리스트로 만들때 유용\n",
        "\n",
        "import glob\n",
        "\n",
        "\n",
        "dirPath = '/content/newFolder/*.txt'\n",
        "\n",
        "glob.glob(dirPath)\n",
        "# glob.glob('*.txt')"
      ],
      "metadata": {
        "colab": {
          "base_uri": "https://localhost:8080/"
        },
        "id": "INU6hQ1VeNVC",
        "outputId": "f360bd3a-18b4-409e-8256-6411b311b437"
      },
      "execution_count": 100,
      "outputs": [
        {
          "output_type": "execute_result",
          "data": {
            "text/plain": [
              "['/content/newFolder/1.txt']"
            ]
          },
          "metadata": {},
          "execution_count": 100
        }
      ]
    },
    {
      "cell_type": "markdown",
      "source": [
        "##활용 :  리스트 활용해서 폴더의 파일명을 읽어오는 코드"
      ],
      "metadata": {
        "id": "8Ovkuhz5FTav"
      }
    },
    {
      "cell_type": "markdown",
      "metadata": {
        "id": "6f1LiPaaWA6a"
      },
      "source": [
        "### 4-2. tuple (순서가 있는 집합, 읽기 전용)"
      ]
    },
    {
      "cell_type": "markdown",
      "metadata": {
        "id": "lGhnB5pMWK09"
      },
      "source": [
        "() 로 표현합니다"
      ]
    },
    {
      "cell_type": "code",
      "metadata": {
        "id": "Lj0AaIGkWMng"
      },
      "source": [
        "myTuple = (1, 2, 3, 4, 5)"
      ],
      "execution_count": 101,
      "outputs": []
    },
    {
      "cell_type": "code",
      "metadata": {
        "colab": {
          "base_uri": "https://localhost:8080/",
          "height": 170
        },
        "id": "D-MjMwtXWP1j",
        "outputId": "456995df-d318-46f8-bbdd-7db1fd33450b"
      },
      "source": [
        "myTuple.append(1)"
      ],
      "execution_count": null,
      "outputs": [
        {
          "output_type": "error",
          "ename": "AttributeError",
          "evalue": "ignored",
          "traceback": [
            "\u001b[0;31m---------------------------------------------------------------------------\u001b[0m",
            "\u001b[0;31mAttributeError\u001b[0m                            Traceback (most recent call last)",
            "\u001b[0;32m<ipython-input-61-a3b64166a4cd>\u001b[0m in \u001b[0;36m<cell line: 1>\u001b[0;34m()\u001b[0m\n\u001b[0;32m----> 1\u001b[0;31m \u001b[0mmyTuple\u001b[0m\u001b[0;34m.\u001b[0m\u001b[0mappend\u001b[0m\u001b[0;34m(\u001b[0m\u001b[0;36m1\u001b[0m\u001b[0;34m)\u001b[0m\u001b[0;34m\u001b[0m\u001b[0;34m\u001b[0m\u001b[0m\n\u001b[0m",
            "\u001b[0;31mAttributeError\u001b[0m: 'tuple' object has no attribute 'append'"
          ]
        }
      ]
    },
    {
      "cell_type": "code",
      "metadata": {
        "colab": {
          "base_uri": "https://localhost:8080/",
          "height": 170
        },
        "id": "_9qsv2Z6XlTi",
        "outputId": "eaf06a2d-3aac-475a-9bd2-6ab0e508b752"
      },
      "source": [
        "myTuple.remove(1)"
      ],
      "execution_count": null,
      "outputs": [
        {
          "output_type": "error",
          "ename": "AttributeError",
          "evalue": "ignored",
          "traceback": [
            "\u001b[0;31m---------------------------------------------------------------------------\u001b[0m",
            "\u001b[0;31mAttributeError\u001b[0m                            Traceback (most recent call last)",
            "\u001b[0;32m<ipython-input-62-9c490fd074be>\u001b[0m in \u001b[0;36m<cell line: 1>\u001b[0;34m()\u001b[0m\n\u001b[0;32m----> 1\u001b[0;31m \u001b[0mmyTuple\u001b[0m\u001b[0;34m.\u001b[0m\u001b[0mremove\u001b[0m\u001b[0;34m(\u001b[0m\u001b[0;36m1\u001b[0m\u001b[0;34m)\u001b[0m\u001b[0;34m\u001b[0m\u001b[0;34m\u001b[0m\u001b[0m\n\u001b[0m",
            "\u001b[0;31mAttributeError\u001b[0m: 'tuple' object has no attribute 'remove'"
          ]
        }
      ]
    },
    {
      "cell_type": "code",
      "metadata": {
        "colab": {
          "base_uri": "https://localhost:8080/",
          "height": 170
        },
        "id": "FR2eRonUXoK2",
        "outputId": "e7517805-9c4d-4c80-d627-20eac659cdb4"
      },
      "source": [
        "myTuple[0] = 1"
      ],
      "execution_count": null,
      "outputs": [
        {
          "output_type": "error",
          "ename": "TypeError",
          "evalue": "ignored",
          "traceback": [
            "\u001b[0;31m---------------------------------------------------------------------------\u001b[0m",
            "\u001b[0;31mTypeError\u001b[0m                                 Traceback (most recent call last)",
            "\u001b[0;32m<ipython-input-63-7218fd17b6f8>\u001b[0m in \u001b[0;36m<cell line: 1>\u001b[0;34m()\u001b[0m\n\u001b[0;32m----> 1\u001b[0;31m \u001b[0mmyTuple\u001b[0m\u001b[0;34m[\u001b[0m\u001b[0;36m0\u001b[0m\u001b[0;34m]\u001b[0m \u001b[0;34m=\u001b[0m \u001b[0;36m1\u001b[0m\u001b[0;34m\u001b[0m\u001b[0;34m\u001b[0m\u001b[0m\n\u001b[0m",
            "\u001b[0;31mTypeError\u001b[0m: 'tuple' object does not support item assignment"
          ]
        }
      ]
    },
    {
      "cell_type": "markdown",
      "metadata": {
        "id": "PhwymGjaXqwU"
      },
      "source": [
        "#### 길이 파악하기"
      ]
    },
    {
      "cell_type": "code",
      "metadata": {
        "colab": {
          "base_uri": "https://localhost:8080/"
        },
        "id": "q52SzZNOYIo1",
        "outputId": "afb91b57-f0e8-4d81-d04f-7486b92dc0b5"
      },
      "source": [
        "#튜플은 길이 카운팅 가능\n",
        "len(myTuple)"
      ],
      "execution_count": 102,
      "outputs": [
        {
          "output_type": "execute_result",
          "data": {
            "text/plain": [
              "5"
            ]
          },
          "metadata": {},
          "execution_count": 102
        }
      ]
    },
    {
      "cell_type": "code",
      "metadata": {
        "colab": {
          "base_uri": "https://localhost:8080/"
        },
        "id": "58_4q0YKYJ3K",
        "outputId": "04a274f6-c652-4593-af5b-eb5fd60a6235"
      },
      "source": [
        "myTuple"
      ],
      "execution_count": 103,
      "outputs": [
        {
          "output_type": "execute_result",
          "data": {
            "text/plain": [
              "(1, 2, 3, 4, 5)"
            ]
          },
          "metadata": {},
          "execution_count": 103
        }
      ]
    },
    {
      "cell_type": "markdown",
      "metadata": {
        "id": "vCdKOsCpZNBi"
      },
      "source": [
        "## set (순서 X, 중복 X)"
      ]
    },
    {
      "cell_type": "code",
      "metadata": {
        "id": "jIWM7VJjZMuH"
      },
      "source": [
        "myset = set()"
      ],
      "execution_count": 104,
      "outputs": []
    },
    {
      "cell_type": "code",
      "metadata": {
        "colab": {
          "base_uri": "https://localhost:8080/"
        },
        "id": "cBYyzorp0XoK",
        "outputId": "166e71d7-00c5-4b78-f1ac-884732e26505"
      },
      "source": [
        "myset"
      ],
      "execution_count": 105,
      "outputs": [
        {
          "output_type": "execute_result",
          "data": {
            "text/plain": [
              "set()"
            ]
          },
          "metadata": {},
          "execution_count": 105
        }
      ]
    },
    {
      "cell_type": "code",
      "metadata": {
        "colab": {
          "base_uri": "https://localhost:8080/"
        },
        "id": "g7kOegmWZMXo",
        "outputId": "e7bca7c8-0b80-409b-ab1f-ced3cacb9d43"
      },
      "source": [
        "type(myset)"
      ],
      "execution_count": 106,
      "outputs": [
        {
          "output_type": "execute_result",
          "data": {
            "text/plain": [
              "set"
            ]
          },
          "metadata": {},
          "execution_count": 106
        }
      ]
    },
    {
      "cell_type": "code",
      "metadata": {
        "id": "9hiHrECzZUQH"
      },
      "source": [
        "myset.add(1)\n",
        "myset.add(2)\n",
        "myset.add(3)"
      ],
      "execution_count": 107,
      "outputs": []
    },
    {
      "cell_type": "code",
      "metadata": {
        "colab": {
          "base_uri": "https://localhost:8080/"
        },
        "id": "QNQ7synrZUIf",
        "outputId": "add67d11-2e2d-4187-bfa3-287e81d1928f"
      },
      "source": [
        "myset"
      ],
      "execution_count": 108,
      "outputs": [
        {
          "output_type": "execute_result",
          "data": {
            "text/plain": [
              "{1, 2, 3}"
            ]
          },
          "metadata": {},
          "execution_count": 108
        }
      ]
    },
    {
      "cell_type": "code",
      "metadata": {
        "id": "7TXOT5PHZlG-"
      },
      "source": [
        "myset.add(1)\n",
        "myset.add(2)\n",
        "myset.add(3)\n",
        "myset.add(1)\n",
        "myset.add(2)\n",
        "myset.add(3)\n",
        "#집합 타입은 중복 추가 안됨\n",
        "#동시에 여러개 추가하고싶을 때는 update"
      ],
      "execution_count": 109,
      "outputs": []
    },
    {
      "cell_type": "code",
      "metadata": {
        "colab": {
          "base_uri": "https://localhost:8080/"
        },
        "id": "69kuRwVTZlAd",
        "outputId": "32ae9569-22b8-4aa6-a417-eef057cda044"
      },
      "source": [
        "myset"
      ],
      "execution_count": 110,
      "outputs": [
        {
          "output_type": "execute_result",
          "data": {
            "text/plain": [
              "{1, 2, 3}"
            ]
          },
          "metadata": {},
          "execution_count": 110
        }
      ]
    },
    {
      "cell_type": "code",
      "metadata": {
        "id": "o7WiOXmMZu0r"
      },
      "source": [
        "myset.add(4)"
      ],
      "execution_count": 111,
      "outputs": []
    },
    {
      "cell_type": "code",
      "metadata": {
        "colab": {
          "base_uri": "https://localhost:8080/"
        },
        "id": "ovA1nLoa0suO",
        "outputId": "03cd7448-6ff1-496d-cee5-49abb0d46c8d"
      },
      "source": [
        "myset"
      ],
      "execution_count": 112,
      "outputs": [
        {
          "output_type": "execute_result",
          "data": {
            "text/plain": [
              "{1, 2, 3, 4}"
            ]
          },
          "metadata": {},
          "execution_count": 112
        }
      ]
    },
    {
      "cell_type": "code",
      "source": [
        "len(myset)"
      ],
      "metadata": {
        "colab": {
          "base_uri": "https://localhost:8080/"
        },
        "id": "gLVEBhwCK8IT",
        "outputId": "817934c2-f716-4f26-abfc-f63e7051d106"
      },
      "execution_count": 113,
      "outputs": [
        {
          "output_type": "execute_result",
          "data": {
            "text/plain": [
              "4"
            ]
          },
          "metadata": {},
          "execution_count": 113
        }
      ]
    },
    {
      "cell_type": "markdown",
      "metadata": {
        "id": "57vgLEysYLus"
      },
      "source": [
        "### 4-3. dict (사전형 집합, key와 value 쌍)"
      ]
    },
    {
      "cell_type": "markdown",
      "metadata": {
        "id": "Y1nD5M8IYUh2"
      },
      "source": [
        "{}로 표현합니다"
      ]
    },
    {
      "cell_type": "code",
      "metadata": {
        "id": "R3WbGCJSa-n_"
      },
      "source": [
        "mydict = dict()"
      ],
      "execution_count": 114,
      "outputs": []
    },
    {
      "cell_type": "code",
      "metadata": {
        "colab": {
          "base_uri": "https://localhost:8080/"
        },
        "id": "ihPXvBAZ0-v2",
        "outputId": "71c7aa67-e768-4fb0-bfdb-7444c1c6deb9"
      },
      "source": [
        "mydict"
      ],
      "execution_count": 115,
      "outputs": [
        {
          "output_type": "execute_result",
          "data": {
            "text/plain": [
              "{}"
            ]
          },
          "metadata": {},
          "execution_count": 115
        }
      ]
    },
    {
      "cell_type": "code",
      "metadata": {
        "colab": {
          "base_uri": "https://localhost:8080/"
        },
        "id": "cUcgXj1aa_Xj",
        "outputId": "a5aa366a-8d44-4972-9554-d2b354965a4a"
      },
      "source": [
        "type(mydict)"
      ],
      "execution_count": 116,
      "outputs": [
        {
          "output_type": "execute_result",
          "data": {
            "text/plain": [
              "dict"
            ]
          },
          "metadata": {},
          "execution_count": 116
        }
      ]
    },
    {
      "cell_type": "markdown",
      "metadata": {
        "id": "aciJNcbDZ9mc"
      },
      "source": [
        "#### 값을 추가하기"
      ]
    },
    {
      "cell_type": "code",
      "metadata": {
        "id": "D-SAZCUHYWuc"
      },
      "source": [
        "mydict = dict()"
      ],
      "execution_count": 117,
      "outputs": []
    },
    {
      "cell_type": "code",
      "metadata": {
        "id": "PfON-IIcYZ_e"
      },
      "source": [
        "# key값이 'apple', value가 123456\n",
        "mydict['apple'] = 123456"
      ],
      "execution_count": 118,
      "outputs": []
    },
    {
      "cell_type": "code",
      "metadata": {
        "colab": {
          "base_uri": "https://localhost:8080/"
        },
        "id": "qj2OiMKaYlVO",
        "outputId": "28c7f1c9-98f0-4ffd-c8be-92e62f884042"
      },
      "source": [
        "mydict['apple']"
      ],
      "execution_count": 119,
      "outputs": [
        {
          "output_type": "execute_result",
          "data": {
            "text/plain": [
              "123456"
            ]
          },
          "metadata": {},
          "execution_count": 119
        }
      ]
    },
    {
      "cell_type": "code",
      "metadata": {
        "id": "W47eMGTdYfhM"
      },
      "source": [
        "mydict[0] = 2"
      ],
      "execution_count": 120,
      "outputs": []
    },
    {
      "cell_type": "code",
      "metadata": {
        "colab": {
          "base_uri": "https://localhost:8080/"
        },
        "id": "BuCJWnwFYhV2",
        "outputId": "017f7d3c-f351-4473-a923-7399716cb747"
      },
      "source": [
        "mydict[0]"
      ],
      "execution_count": 121,
      "outputs": [
        {
          "output_type": "execute_result",
          "data": {
            "text/plain": [
              "2"
            ]
          },
          "metadata": {},
          "execution_count": 121
        }
      ]
    },
    {
      "cell_type": "code",
      "source": [
        "mydict"
      ],
      "metadata": {
        "colab": {
          "base_uri": "https://localhost:8080/"
        },
        "id": "XGyD8s07OWwg",
        "outputId": "bc52a389-1968-456a-fa92-c157da9fef93"
      },
      "execution_count": 123,
      "outputs": [
        {
          "output_type": "execute_result",
          "data": {
            "text/plain": [
              "{'apple': 123456, 0: 2}"
            ]
          },
          "metadata": {},
          "execution_count": 123
        }
      ]
    },
    {
      "cell_type": "markdown",
      "metadata": {
        "id": "c2pY_ZcmaNV1"
      },
      "source": [
        "mydict의 키는 **문자형** / **숫자형**이 혼용 가능합니다"
      ]
    },
    {
      "cell_type": "code",
      "metadata": {
        "colab": {
          "base_uri": "https://localhost:8080/"
        },
        "id": "KGR-kooHYisN",
        "outputId": "749e0c87-901a-44c4-fbd9-6e2e69795f21"
      },
      "source": [
        "mydict"
      ],
      "execution_count": 124,
      "outputs": [
        {
          "output_type": "execute_result",
          "data": {
            "text/plain": [
              "{'apple': 123456, 0: 2}"
            ]
          },
          "metadata": {},
          "execution_count": 124
        }
      ]
    },
    {
      "cell_type": "markdown",
      "metadata": {
        "id": "VtHeeb0lacre"
      },
      "source": [
        "float(실수)도 키로써 입력이 가능합니다."
      ]
    },
    {
      "cell_type": "code",
      "metadata": {
        "id": "920R7Ni7aWi7"
      },
      "source": [
        "mydict[3.14] = 1"
      ],
      "execution_count": 125,
      "outputs": []
    },
    {
      "cell_type": "code",
      "metadata": {
        "colab": {
          "base_uri": "https://localhost:8080/"
        },
        "id": "_lsLGLKCaaoe",
        "outputId": "f3ad9a4a-e7ce-4f58-e74c-2f3bc7ba01a3"
      },
      "source": [
        "mydict"
      ],
      "execution_count": 126,
      "outputs": [
        {
          "output_type": "execute_result",
          "data": {
            "text/plain": [
              "{'apple': 123456, 0: 2, 3.14: 1}"
            ]
          },
          "metadata": {},
          "execution_count": 126
        }
      ]
    },
    {
      "cell_type": "markdown",
      "metadata": {
        "id": "fJvfGTfDYy8V"
      },
      "source": [
        "#### 값을 바꾸기"
      ]
    },
    {
      "cell_type": "code",
      "metadata": {
        "id": "6Ho7ZevOYpXW"
      },
      "source": [
        "mydict['apple'] = 'byebye'"
      ],
      "execution_count": 127,
      "outputs": []
    },
    {
      "cell_type": "code",
      "metadata": {
        "colab": {
          "base_uri": "https://localhost:8080/"
        },
        "id": "oG9LcfG4Ywlw",
        "outputId": "05602002-a6b8-43e4-cd04-80f87de47e75"
      },
      "source": [
        "mydict"
      ],
      "execution_count": 128,
      "outputs": [
        {
          "output_type": "execute_result",
          "data": {
            "text/plain": [
              "{'apple': 'byebye', 0: 2, 3.14: 1}"
            ]
          },
          "metadata": {},
          "execution_count": 128
        }
      ]
    },
    {
      "cell_type": "markdown",
      "metadata": {
        "id": "0SEF7gLRY_Ik"
      },
      "source": [
        "#### 길이 파악하기"
      ]
    },
    {
      "cell_type": "code",
      "metadata": {
        "colab": {
          "base_uri": "https://localhost:8080/"
        },
        "id": "YCAsgXFTZCmh",
        "outputId": "8354c87d-5c10-45f0-f5ed-8faed7d92d54"
      },
      "source": [
        "len(mydict)"
      ],
      "execution_count": 129,
      "outputs": [
        {
          "output_type": "execute_result",
          "data": {
            "text/plain": [
              "3"
            ]
          },
          "metadata": {},
          "execution_count": 129
        }
      ]
    },
    {
      "cell_type": "markdown",
      "source": [
        "## 주사위를 원하는 횟수만큼 던지고 그 결과값을 리스트로 저장"
      ],
      "metadata": {
        "id": "iZ6MztiPOtha"
      }
    },
    {
      "cell_type": "code",
      "source": [
        "import random\n",
        "\n",
        "myList =[]\n",
        "\n",
        "#1. 키보드로부터 반복 횟수를 입력 받는다.\n",
        "count = input() #input()은 str이므로 int형 변환\n",
        "\n",
        "#2.타입을 확인한다.(str)\n",
        "print(type(count))\n",
        "\n",
        "#3.타입을 str -> int로 변경한다.\n",
        "count = int(input())\n",
        "\n",
        "#4. 반복 횟수만큼 난수(1~6사이의)를 생성해서 리스트엥 추가한다.\n",
        "for i in range(count):\n",
        "  num = random.randrange(1,7)\n",
        "  myList.append(num)\n",
        "\n",
        "print(myList)"
      ],
      "metadata": {
        "colab": {
          "base_uri": "https://localhost:8080/"
        },
        "id": "QQ69JypMrQcF",
        "outputId": "93a0ad8b-288d-42b6-b839-f4b752d2274e"
      },
      "execution_count": 133,
      "outputs": [
        {
          "output_type": "stream",
          "name": "stdout",
          "text": [
            "8\n",
            "<class 'str'>\n",
            "8\n",
            "[4, 6, 1, 6, 4, 1, 6, 2]\n"
          ]
        }
      ]
    },
    {
      "cell_type": "code",
      "source": [],
      "metadata": {
        "id": "P0woywOHsRHJ"
      },
      "execution_count": null,
      "outputs": []
    }
  ]
}